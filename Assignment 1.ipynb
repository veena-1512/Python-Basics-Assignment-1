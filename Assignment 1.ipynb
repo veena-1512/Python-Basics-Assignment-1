{
 "cells": [
  {
   "cell_type": "markdown",
   "id": "3f737822-99c0-4ed9-8f53-7b236320bbdd",
   "metadata": {},
   "source": [
    "1.An example of a variable containing different types of data:"
   ]
  },
  {
   "cell_type": "code",
   "execution_count": 8,
   "id": "830d790a-1537-424c-87aa-a518ff94f9bd",
   "metadata": {},
   "outputs": [],
   "source": [
    "my_var = [1,3,46, \"Hello, world!\", 3.14, True,'pwskill',(92,3,4,5,6)]"
   ]
  },
  {
   "cell_type": "code",
   "execution_count": 5,
   "id": "94d11202-a53d-4636-9e22-bcc0242d4964",
   "metadata": {},
   "outputs": [
    {
     "data": {
      "text/plain": [
       "1"
      ]
     },
     "execution_count": 5,
     "metadata": {},
     "output_type": "execute_result"
    }
   ],
   "source": [
    "my_var[0]"
   ]
  },
  {
   "cell_type": "code",
   "execution_count": 9,
   "id": "c30a8ecb-01cf-4d64-a89a-ccd94639ce53",
   "metadata": {},
   "outputs": [
    {
     "data": {
      "text/plain": [
       "(92, 3, 4, 5, 6)"
      ]
     },
     "execution_count": 9,
     "metadata": {},
     "output_type": "execute_result"
    }
   ],
   "source": [
    "my_var[7]"
   ]
  },
  {
   "cell_type": "markdown",
   "id": "a808af71-7bf4-4db7-90a6-e0baa47abdc4",
   "metadata": {},
   "source": [
    "Q.2 The data types of the given variables are as follows:"
   ]
  },
  {
   "cell_type": "code",
   "execution_count": 10,
   "id": "5297b550-8ccd-4ca7-ac8b-8917f3f3bc4a",
   "metadata": {},
   "outputs": [],
   "source": [
    "Var1=''"
   ]
  },
  {
   "cell_type": "code",
   "execution_count": 12,
   "id": "8f33db73-5c0d-4b5f-bac0-9983bf6f36ab",
   "metadata": {},
   "outputs": [
    {
     "data": {
      "text/plain": [
       "str"
      ]
     },
     "execution_count": 12,
     "metadata": {},
     "output_type": "execute_result"
    }
   ],
   "source": [
    "type(Var1)"
   ]
  },
  {
   "cell_type": "code",
   "execution_count": 15,
   "id": "a900241d-551a-424f-9db0-826b46fb5d1e",
   "metadata": {},
   "outputs": [],
   "source": [
    "var2 = [' DS' , 'ML ', 'Python']"
   ]
  },
  {
   "cell_type": "code",
   "execution_count": 16,
   "id": "8ae2917c-ed91-451c-8b8d-07cbf629a3ae",
   "metadata": {},
   "outputs": [
    {
     "data": {
      "text/plain": [
       "list"
      ]
     },
     "execution_count": 16,
     "metadata": {},
     "output_type": "execute_result"
    }
   ],
   "source": [
    "type(var2)"
   ]
  },
  {
   "cell_type": "code",
   "execution_count": 17,
   "id": "0c1b50c5-d146-41ce-aef9-e69ddb9965c8",
   "metadata": {},
   "outputs": [
    {
     "ename": "SyntaxError",
     "evalue": "invalid character '‘' (U+2018) (899486036.py, line 1)",
     "output_type": "error",
     "traceback": [
      "\u001b[0;36m  Cell \u001b[0;32mIn[17], line 1\u001b[0;36m\u001b[0m\n\u001b[0;31m    var3 = [ ‘DS’ , ’ML’ , ‘Python’ ]\u001b[0m\n\u001b[0m             ^\u001b[0m\n\u001b[0;31mSyntaxError\u001b[0m\u001b[0;31m:\u001b[0m invalid character '‘' (U+2018)\n"
     ]
    }
   ],
   "source": [
    "var3 = [ ‘DS’ , ’ML’ , ‘Python’ ]"
   ]
  },
  {
   "cell_type": "code",
   "execution_count": 18,
   "id": "363ccd63-2b1e-4ea0-9980-a1fe27d7b973",
   "metadata": {},
   "outputs": [],
   "source": [
    "var4 = 1."
   ]
  },
  {
   "cell_type": "code",
   "execution_count": 19,
   "id": "6fb8a7c8-f5fc-4896-9f77-7718c67c86f7",
   "metadata": {},
   "outputs": [
    {
     "data": {
      "text/plain": [
       "float"
      ]
     },
     "execution_count": 19,
     "metadata": {},
     "output_type": "execute_result"
    }
   ],
   "source": [
    "type(var4)"
   ]
  },
  {
   "cell_type": "markdown",
   "id": "9ea568c8-d39d-4017-8e7c-38e7d15fdd21",
   "metadata": {},
   "source": [
    "3. example of following operators: /,%,//,**"
   ]
  },
  {
   "cell_type": "code",
   "execution_count": 20,
   "id": "1399148c-b955-480b-8d9d-64a7a89c42db",
   "metadata": {},
   "outputs": [
    {
     "name": "stdout",
     "output_type": "stream",
     "text": [
      "3.3333333333333335\n"
     ]
    }
   ],
   "source": [
    "x = 10\n",
    "y = 3\n",
    "result = x / y\n",
    "print(result)"
   ]
  },
  {
   "cell_type": "code",
   "execution_count": 21,
   "id": "73f07467-33c4-4fdb-a58f-d133c630a411",
   "metadata": {},
   "outputs": [
    {
     "name": "stdout",
     "output_type": "stream",
     "text": [
      "1\n"
     ]
    }
   ],
   "source": [
    "x = 10\n",
    "y = 3\n",
    "result = x % y\n",
    "print(result)"
   ]
  },
  {
   "cell_type": "code",
   "execution_count": 22,
   "id": "189f47be-63cf-4e3e-86d2-ca7a4746f1f4",
   "metadata": {},
   "outputs": [
    {
     "name": "stdout",
     "output_type": "stream",
     "text": [
      "3\n"
     ]
    }
   ],
   "source": [
    "x = 10\n",
    "y = 3\n",
    "result = x // y\n",
    "print(result)"
   ]
  },
  {
   "cell_type": "code",
   "execution_count": 25,
   "id": "cb7af824-ca80-4b0b-982d-1731749b2c22",
   "metadata": {},
   "outputs": [
    {
     "name": "stdout",
     "output_type": "stream",
     "text": [
      "125\n"
     ]
    }
   ],
   "source": [
    "x=5\n",
    "y=3\n",
    "result = x**y\n",
    "print(result)"
   ]
  },
  {
   "cell_type": "markdown",
   "id": "839ae310-2f36-442c-81fd-a0af89b3a13c",
   "metadata": {},
   "source": [
    "4. example of a list of length 10 with different types of data, followed by a for loop to print each element and its data typey in python.\n"
   ]
  },
  {
   "cell_type": "code",
   "execution_count": 26,
   "id": "193f183e-9208-422d-ae4c-2cda9fdd0814",
   "metadata": {},
   "outputs": [],
   "source": [
    "my_list = [98, \"Hello\", 3.14, True, [1, 2, 3], {\"name\": \"John\", \"age\": 25}, (4, 5, 6), None, False, {'apple', 'banana', 'cherry'}]\n"
   ]
  },
  {
   "cell_type": "code",
   "execution_count": 27,
   "id": "8e8b63f0-44c5-415a-921d-92ba510838dc",
   "metadata": {},
   "outputs": [
    {
     "name": "stdout",
     "output_type": "stream",
     "text": [
      "98 <class 'int'>\n",
      "Hello <class 'str'>\n",
      "3.14 <class 'float'>\n",
      "True <class 'bool'>\n",
      "[1, 2, 3] <class 'list'>\n",
      "{'name': 'John', 'age': 25} <class 'dict'>\n",
      "(4, 5, 6) <class 'tuple'>\n",
      "None <class 'NoneType'>\n",
      "False <class 'bool'>\n",
      "{'cherry', 'banana', 'apple'} <class 'set'>\n"
     ]
    }
   ],
   "source": [
    "for element in my_list:\n",
    "    print(element, type(element))"
   ]
  },
  {
   "cell_type": "markdown",
   "id": "bd68a0c6-4577-4343-b0ce-047846d41307",
   "metadata": {},
   "source": [
    "5. Using a while loop, verify if the number A is purely divisible by number B and if so then how many\n",
    "times it can be divisible."
   ]
  },
  {
   "cell_type": "code",
   "execution_count": 35,
   "id": "bef16e62-0d07-440c-984e-01c28e62fb79",
   "metadata": {},
   "outputs": [
    {
     "name": "stdout",
     "output_type": "stream",
     "text": [
      "A is divisible by B 2 times.\n"
     ]
    }
   ],
   "source": [
    "A = 20\n",
    "B = 2\n",
    "count = 0\n",
    "\n",
    "while A % B == 0:\n",
    "    A = A // B\n",
    "    count += 1\n",
    "print(f\"A is divisible by B {count} times.\")"
   ]
  },
  {
   "cell_type": "markdown",
   "id": "90633de2-b4ae-4103-9250-b5b1c47a7b28",
   "metadata": {},
   "source": [
    "6.An example of creating a list of 25 integer values and using a for loop with an if-else condition to check if each element is divisible by 3 or not.\n"
   ]
  },
  {
   "cell_type": "code",
   "execution_count": 36,
   "id": "bbfc614a-c552-44e5-bb9f-bf07c4df78e7",
   "metadata": {},
   "outputs": [
    {
     "name": "stdout",
     "output_type": "stream",
     "text": [
      "12 is divisible by 3.\n",
      "7 is not divisible by 3.\n",
      "36 is divisible by 3.\n",
      "15 is divisible by 3.\n",
      "24 is divisible by 3.\n",
      "10 is not divisible by 3.\n",
      "9 is divisible by 3.\n",
      "42 is divisible by 3.\n",
      "18 is divisible by 3.\n",
      "5 is not divisible by 3.\n",
      "21 is divisible by 3.\n",
      "8 is not divisible by 3.\n",
      "30 is divisible by 3.\n",
      "17 is not divisible by 3.\n",
      "27 is divisible by 3.\n",
      "6 is divisible by 3.\n",
      "11 is not divisible by 3.\n",
      "33 is divisible by 3.\n",
      "22 is not divisible by 3.\n",
      "14 is not divisible by 3.\n",
      "25 is not divisible by 3.\n",
      "39 is divisible by 3.\n",
      "4 is not divisible by 3.\n",
      "20 is not divisible by 3.\n",
      "16 is not divisible by 3.\n"
     ]
    }
   ],
   "source": [
    "my_list = [12, 7, 36, 15, 24, 10, 9, 42, 18, 5, 21, 8, 30, 17, 27, 6, 11, 33, 22, 14, 25, 39, 4, 20, 16]\n",
    "\n",
    "for element in my_list:\n",
    "    if element % 3 == 0:\n",
    "        print(f\"{element} is divisible by 3.\")\n",
    "    else:\n",
    "        print(f\"{element} is not divisible by 3.\")"
   ]
  },
  {
   "cell_type": "markdown",
   "id": "f623e1ab-b7bf-4626-af12-db473321901a",
   "metadata": {},
   "source": [
    "7. i.Immutable data types are those whose values cannot be modified after they are created. Any operation that appears to modify an immutable object actually creates a new object with the updated value.\n",
    "Examples of immutable data types:"
   ]
  },
  {
   "cell_type": "code",
   "execution_count": 40,
   "id": "00502b9a-9058-4cbe-8a18-7d8955b33913",
   "metadata": {},
   "outputs": [
    {
     "name": "stdout",
     "output_type": "stream",
     "text": [
      "6\n"
     ]
    }
   ],
   "source": [
    "x = 5\n",
    "y = 1\n",
    "print(x+y)"
   ]
  },
  {
   "cell_type": "markdown",
   "id": "77174685-c03c-48f1-9390-1e271ce2d0eb",
   "metadata": {},
   "source": [
    "in integer Once an integer is assigned to a variable, its value cannot be changed. If we try to modify it, a new object is created."
   ]
  },
  {
   "cell_type": "code",
   "execution_count": 44,
   "id": "9ddd48d1-a38d-4b1c-9e99-c0ef9110ab4b",
   "metadata": {},
   "outputs": [
    {
     "name": "stdout",
     "output_type": "stream",
     "text": [
      "John  Doe\n"
     ]
    }
   ],
   "source": [
    "str = \"John\"\n",
    "str1 = \" Doe\"\n",
    "print( str,str1)"
   ]
  },
  {
   "cell_type": "markdown",
   "id": "86536eca-5887-4154-8f95-558e70603bde",
   "metadata": {},
   "source": [
    "Strings in Python are immutable. If you want to change the value of a string, you need to create a new string object."
   ]
  },
  {
   "cell_type": "markdown",
   "id": "b1edb1e3-355d-4837-9ab2-f8975e96fcff",
   "metadata": {},
   "source": [
    "ii. Mutable data types are those whose values can be modified after they are created. The modifications can be made in-place without creating a new object.Examples of mutable data types in Python are:\n",
    "\n"
   ]
  },
  {
   "cell_type": "code",
   "execution_count": 45,
   "id": "be01ff22-a32c-4f3a-bafb-339ba564949e",
   "metadata": {},
   "outputs": [
    {
     "name": "stdout",
     "output_type": "stream",
     "text": [
      "[1, 2, 3, 4]\n"
     ]
    }
   ],
   "source": [
    "my_list = [1, 2, 3]\n",
    "my_list.append(4)\n",
    "print(my_list)"
   ]
  },
  {
   "cell_type": "code",
   "execution_count": 46,
   "id": "5529e8f5-3f61-45db-a057-2e53547f5795",
   "metadata": {},
   "outputs": [
    {
     "name": "stdout",
     "output_type": "stream",
     "text": [
      "[5, 2, 3, 4]\n"
     ]
    }
   ],
   "source": [
    "my_list[0] = 5\n",
    "print(my_list)"
   ]
  },
  {
   "cell_type": "markdown",
   "id": "9bb227b0-7c35-49ae-a07f-bfac7a6bbb26",
   "metadata": {},
   "source": [
    "Lists can be modified by adding, removing, or changing elements without creating a new list."
   ]
  },
  {
   "cell_type": "code",
   "execution_count": 48,
   "id": "f4255854-a9cc-40a8-ba3e-a34ca100d60c",
   "metadata": {},
   "outputs": [
    {
     "name": "stdout",
     "output_type": "stream",
     "text": [
      "{'name': 'veena', 'age': 26}\n"
     ]
    }
   ],
   "source": [
    "my_dict = {\"name\": \"veena\", \"age\": 25}\n",
    "my_dict[\"age\"] = 26\n",
    "print(my_dict) "
   ]
  },
  {
   "cell_type": "code",
   "execution_count": null,
   "id": "ad72a8f2-8930-451c-96bb-193543e397b6",
   "metadata": {},
   "outputs": [],
   "source": [
    "my_dict[\"city\"] = \"Delhi\"\n",
    "print(my_dict) "
   ]
  }
 ],
 "metadata": {
  "kernelspec": {
   "display_name": "Python 3 (ipykernel)",
   "language": "python",
   "name": "python3"
  },
  "language_info": {
   "codemirror_mode": {
    "name": "ipython",
    "version": 3
   },
   "file_extension": ".py",
   "mimetype": "text/x-python",
   "name": "python",
   "nbconvert_exporter": "python",
   "pygments_lexer": "ipython3",
   "version": "3.10.8"
  }
 },
 "nbformat": 4,
 "nbformat_minor": 5
}
